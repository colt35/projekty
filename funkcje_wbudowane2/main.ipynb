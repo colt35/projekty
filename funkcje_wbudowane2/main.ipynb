{
 "cells": [
  {
   "cell_type": "markdown",
   "metadata": {},
   "source": [
    "# TASK 1 \n",
    "- znajdź palindrom"
   ]
  },
  {
   "cell_type": "code",
   "execution_count": null,
   "metadata": {},
   "outputs": [],
   "source": [
    "def is_palidrome(text:str)->bool:\n",
    "    return text == text[::-1]\n",
    "\n",
    "\"\"\"\n",
    "This function check if its palidrome.\n",
    "\n",
    "Args:\n",
    "    text (str): Input text\n",
    "\n",
    "Return:\n",
    "    bool: True if its palidrome\n",
    "\n",
    "Raises:\n",
    "Example:\n",
    "\n",
    "\"\"\"\n",
    "\n",
    "\n",
    "text = \"Hello\"\n",
    "print(is_palidrome(\"hello\"))\n",
    "print(is_palidrome(\"hi\"))\n",
    "print(is_palidrome(\"kajak\"))\n"
   ]
  },
  {
   "cell_type": "markdown",
   "metadata": {},
   "source": [
    "# TASK2\n",
    "\n",
    "- obliczamy pole i objetosc kuli"
   ]
  },
  {
   "cell_type": "code",
   "execution_count": null,
   "metadata": {},
   "outputs": [],
   "source": [
    "import math\n",
    "\n",
    "\n",
    "def calculate_sphere_area(r:int)->float:\n",
    "    return 4*math.pi*(r**2)\n",
    "\n",
    "def calculate_sphere_volume(r):\n",
    "    return (4/3)*math.pi*(r**3)\n",
    "\n",
    "r=2\n",
    "print(f\"pole kuli o promieniu {r}, jest równe{calculate_sphere_area(r)}\")\n",
    "print(f\"objętość kuli o promieniu {r}, jest równe{calculate_sphere_volume(r)}\")\n",
    "\n"
   ]
  },
  {
   "cell_type": "markdown",
   "metadata": {},
   "source": [
    "# TASK 3\n",
    "\n",
    "- rzut monetą"
   ]
  },
  {
   "cell_type": "code",
   "execution_count": null,
   "metadata": {},
   "outputs": [],
   "source": [
    "import random"
   ]
  },
  {
   "cell_type": "code",
   "execution_count": null,
   "metadata": {},
   "outputs": [],
   "source": [
    "def rzut_moneta(n:int)->None:\n",
    "    results = [random.choice([\"orzel\", \"reszka\"]) for _ in range(3)]\n",
    "\n",
    "    num_orzel = results.count(\"orzel\")\n",
    "    num_reszka = results.count(\"reszka\")\n",
    "\n",
    "    print(f\"Orzel: {num_orzel}, Reszka: {num_reszka}\")\n",
    "\n",
    "    rzut_moneta(11)\n"
   ]
  },
  {
   "cell_type": "code",
   "execution_count": null,
   "metadata": {},
   "outputs": [],
   "source": [
    "def rzut_moneta_user_input()->None:\n",
    "    n=int(input(\"Podaj liczbe rzutów: \"))\n",
    "    results=[random.choice([\"orzeł\", \"reszka\"]) for _ in range(n)]\n",
    "\n",
    "    num_orzel=results.count(\"orzeł\")\n",
    "    num_reszka=results.count(\"reszka\")\n",
    "\n",
    "    print(f\"Orzeł: {num_orzel}, Reszka: {num_reszka}\")\n",
    "    \n",
    "    \n",
    "rzut_moneta_user_input()"
   ]
  },
  {
   "cell_type": "markdown",
   "metadata": {},
   "source": [
    "# TASK 4\n",
    "\n",
    "- zliczanie liter i liczb\n"
   ]
  },
  {
   "cell_type": "code",
   "execution_count": null,
   "metadata": {},
   "outputs": [],
   "source": [
    "def count_alfanumeric(text:str)->dict:\n",
    "    count = {}\n",
    "    \n",
    "    for char in text:\n",
    "        if char.isalnum():\n",
    "            count[char] = count.get(char, 0)+1\n",
    "    return count\n",
    "\n",
    "\n",
    "text= \"hello111oooooiiii\"\n",
    "print(count_alfanumeric(text))\n",
    "\n",
    "\n",
    "test_dict={'h': 1, 'e': 1, 'l': 2, 'o': 6, '1': 3, 'i': 4}\n",
    "test_dict.get(\"y\",0)\n",
    "\n",
    "\n"
   ]
  },
  {
   "cell_type": "markdown",
   "metadata": {},
   "source": [
    "# TASK 5\n",
    "\n",
    "- znalezienie najdluzszego slowa\n"
   ]
  },
  {
   "cell_type": "code",
   "execution_count": null,
   "metadata": {},
   "outputs": [],
   "source": [
    "def find_longest_word(text:str)->str:\n",
    "    words = text.split()\n",
    "    return max(words, key=len)\n",
    "\n",
    "text = \"I love programmiiiiiiiiiiiiiiiiing in python!\"\n",
    "print(find_longest_word(text))\n"
   ]
  },
  {
   "cell_type": "markdown",
   "metadata": {},
   "source": [
    "# Task 6\n",
    "\n",
    "- kompresja stringa\n"
   ]
  },
  {
   "cell_type": "code",
   "execution_count": null,
   "metadata": {},
   "outputs": [],
   "source": [
    "def compress_string(text:str)->str:\n",
    "    prev_char=text[0]\n",
    "    count=1\n",
    "    compressed=[]\n",
    "\n",
    "    for char in text[1:]:\n",
    "        if prev_char==char:\n",
    "            count+=1\n",
    "        else:\n",
    "            compressed.append(f\"{prev_char}{count}\")\n",
    "            prev_char=char\n",
    "            count=1\n",
    "\n",
    "    compressed.append(f\"{prev_char}{count}\")\n",
    "    return ''.join(compressed)\n",
    "\n",
    "text=\"aabccc\" #a2b1c3\n",
    "print(compress_string(text))"
   ]
  },
  {
   "cell_type": "code",
   "execution_count": null,
   "metadata": {},
   "outputs": [],
   "source": [
    "prev_char = text[0]\n",
    "count=1\n",
    "compressed=[]\n",
    "\n",
    "for char in text[1:]:\n",
    "    if prev_char==char:\n",
    "        count=+1\n",
    "    else:\n",
    "        compressed.append(f\"{prev_char}{count}\")\n",
    "        prev_char=char\n",
    "        count=1   \n",
    "\n",
    "\n",
    "compressed.append(f\"{prev_char}{count}\")\n",
    "\n",
    "\n",
    "\n",
    "print(compressed)     \n",
    "print(\"\".join(compressed))   \n",
    "\n"
   ]
  },
  {
   "cell_type": "markdown",
   "metadata": {},
   "source": [
    "# TASK 7\n",
    "\n",
    "- usuwanie duplikatów"
   ]
  },
  {
   "cell_type": "code",
   "execution_count": null,
   "metadata": {},
   "outputs": [],
   "source": [
    "def remove_duplicates(text:str)->str:\n",
    "    words= text.split()\n",
    "    seen=set()\n",
    "    result=[]\n",
    "\n",
    "    for word in words:\n",
    "        if word.lower() not in seen:\n",
    "            seen.add(word.lower())\n",
    "            result.append(word)\n",
    "\n",
    "    return \" \".join(result)\n",
    "    \n",
    "\n",
    "\n",
    "\n",
    "text = \"this is my test test\"\n",
    "print(remove_duplicates(text))\n",
    "\n",
    "\n"
   ]
  },
  {
   "cell_type": "markdown",
   "metadata": {},
   "source": [
    "# TASK 8\n",
    "\n",
    "- wieża liczb"
   ]
  },
  {
   "cell_type": "code",
   "execution_count": 59,
   "metadata": {},
   "outputs": [
    {
     "name": "stdout",
     "output_type": "stream",
     "text": [
      "1\n",
      "12\n",
      "123\n",
      "1234\n",
      "12345\n",
      "123456\n",
      "1234567\n"
     ]
    }
   ],
   "source": [
    "def digital_tower():\n",
    "\n",
    "    n=int(input(\"Podaj liczbe: \"))\n",
    "    result=[]\n",
    "\n",
    "    for level in range(1,n+1):\n",
    "        level_result=\"\"\n",
    "        for i in range(1,level+1):\n",
    "            level_result+=str(i)\n",
    "        result.append(level_result)   \n",
    "    return \"\\n\".join(result)\n",
    "\n",
    "print(digital_tower())\n",
    "    "
   ]
  },
  {
   "cell_type": "code",
   "execution_count": null,
   "metadata": {},
   "outputs": [],
   "source": [
    "1\n",
    "1 2\n",
    "1 2 3\n",
    "1 2 3 4 "
   ]
  },
  {
   "cell_type": "code",
   "execution_count": null,
   "metadata": {},
   "outputs": [],
   "source": [
    "n=4\n",
    "result=[]\n",
    "\n",
    "for level in range(1,n+1):\n",
    "    level_result = \"\"\n",
    "    for i in range(1, level+1):\n",
    "        level_result+=str(i)\n",
    "    result.append(level_result)\n",
    "\n",
    "print(result)"
   ]
  }
 ],
 "metadata": {
  "kernelspec": {
   "display_name": "Python 3",
   "language": "python",
   "name": "python3"
  },
  "language_info": {
   "codemirror_mode": {
    "name": "ipython",
    "version": 3
   },
   "file_extension": ".py",
   "mimetype": "text/x-python",
   "name": "python",
   "nbconvert_exporter": "python",
   "pygments_lexer": "ipython3",
   "version": "3.12.3"
  }
 },
 "nbformat": 4,
 "nbformat_minor": 2
}
